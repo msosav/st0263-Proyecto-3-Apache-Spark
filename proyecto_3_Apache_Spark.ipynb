{
  "cells": [
    {
      "cell_type": "markdown",
      "metadata": {
        "id": "oP1ZY_IrQWHa"
      },
      "source": [
        "# 0. Preparación del ambiente"
      ]
    },
    {
      "cell_type": "code",
      "execution_count": null,
      "metadata": {
        "id": "LdiAdybXQkqN"
      },
      "outputs": [],
      "source": [
        "!apt-get install openjdk-11-jdk-headless -qq > /dev/null\n",
        "!wget -q https://downloads.apache.org/spark/spark-3.5.1/spark-3.5.1-bin-hadoop3.tgz\n",
        "!tar xf spark-3.5.1-bin-hadoop3.tgz\n",
        "!pip install -q findspark"
      ]
    },
    {
      "cell_type": "code",
      "execution_count": null,
      "metadata": {
        "id": "noGnwKpjfLQp"
      },
      "outputs": [],
      "source": [
        "import os\n",
        "os.environ[\"JAVA_HOME\"] = \"/usr/lib/jvm/java-11-openjdk-amd64\"\n",
        "os.environ[\"SPARK_HOME\"] = \"/content/spark-3.5.1-bin-hadoop3\""
      ]
    },
    {
      "cell_type": "code",
      "execution_count": null,
      "metadata": {
        "id": "bv32y4HzTRpS"
      },
      "outputs": [],
      "source": [
        "from google.colab import drive\n",
        "drive.mount('/content/drive')"
      ]
    },
    {
      "cell_type": "code",
      "execution_count": null,
      "metadata": {
        "id": "xODOyLUaTT5E"
      },
      "outputs": [],
      "source": [
        "os.environ[\"AWS_ACCESS_KEY_ID\"] = ''\n",
        "os.environ[\"AWS_SECRET_ACCESS_KEY\"] = ''\n",
        "os.environ[\"AWS_SESSION_TOKEN\"] = ''"
      ]
    },
    {
      "cell_type": "markdown",
      "metadata": {
        "id": "Du_fcLBQaDbg"
      },
      "source": [
        "# 1. Manejo de sesiones"
      ]
    },
    {
      "cell_type": "markdown",
      "metadata": {
        "id": "29BziMDgaKZ9"
      },
      "source": [
        "### S3"
      ]
    },
    {
      "cell_type": "code",
      "execution_count": null,
      "metadata": {
        "id": "y8BRctROQ8yN"
      },
      "outputs": [],
      "source": [
        "import findspark\n",
        "findspark.init()\n",
        "from pyspark.sql import SparkSession\n",
        "spark = SparkSession.builder \\\n",
        "    .appName(\"covid19_colombia\")\\\n",
        "    .master(\"local[*]\")\\\n",
        "    .config(\"spark.driver.memory\",\"16G\")\\\n",
        "    .config(\"spark.driver.maxResultSize\", \"0\") \\\n",
        "    .config(\"spark.kryoserializer.buffer.max\", \"2000M\")\\\n",
        "    .config(\"spark.jars.packages\", \"com.amazonaws:aws-java-sdk:1.11.1034,org.apache.hadoop:hadoop-aws:3.3.4\")\\\n",
        "    .config('fs.s3a.access.key', os.environ[\"AWS_ACCESS_KEY_ID\"]) \\\n",
        "    .config('fs.s3a.secret.key', os.environ[\"AWS_SECRET_ACCESS_KEY\"]) \\\n",
        "    .config('fs.s3a.session.token', os.environ[\"AWS_SESSION_TOKEN\"]) \\\n",
        "    .config('fs.s3a.path.style.access', 'true') \\\n",
        "    .config('fs.s3a.impl', 'org.apache.hadoop.fs.s3a.S3AFileSystem') \\\n",
        "    .config('fs.s3a.endpoint', 's3.amazonaws.com') \\\n",
        "    .getOrCreate()\n",
        "\n",
        "sc = spark.sparkContext\n",
        "csv_path = \"s3a://msosavp3/covid19_colombia.csv\"\n",
        "df = spark.read.csv(csv_path, header=True, inferSchema=True)"
      ]
    },
    {
      "cell_type": "markdown",
      "metadata": {
        "id": "nsxGIIBzanSS"
      },
      "source": [
        "### Google Drive"
      ]
    },
    {
      "cell_type": "code",
      "execution_count": null,
      "metadata": {
        "id": "lNaFCRc-KoIa"
      },
      "outputs": [],
      "source": [
        "import findspark\n",
        "findspark.init()\n",
        "from pyspark.sql import SparkSession\n",
        "spark = SparkSession.builder \\\n",
        "    .appName(\"covid19_colombia\")\\\n",
        "    .master(\"local[*]\")\\\n",
        "    .getOrCreate()\n",
        "\n",
        "sc = spark.sparkContext\n",
        "csv_path = \"/content/drive/MyDrive/Tópicos Especiales en Telemática/Proyecto 3/covid19_colombia.csv\"\n",
        "df = spark.read.csv(csv_path, header=True, inferSchema=True)"
      ]
    },
    {
      "cell_type": "markdown",
      "metadata": {
        "id": "qQOQVqMLQZXL"
      },
      "source": [
        "# 2. Análisis exploratorio"
      ]
    },
    {
      "cell_type": "markdown",
      "metadata": {
        "id": "TAWVfORYmbCF"
      },
      "source": [
        "## Mostrar el DataFrame"
      ]
    },
    {
      "cell_type": "code",
      "execution_count": null,
      "metadata": {
        "colab": {
          "base_uri": "https://localhost:8080/"
        },
        "id": "5Q0QtHbVjXaS",
        "outputId": "8f1959a6-7b11-4748-df63-17f6ae5223e3"
      },
      "outputs": [
        {
          "name": "stdout",
          "output_type": "stream",
          "text": [
            "+-------------------+----------+---------------------+----------------------------+-------------------+-------------------------+----------------+----+------------------------+----+----------------+------------------+---------+-------------------+---------------+----------+---------------------------+-------------------+--------------------+---------------------+--------------------+------------------+-----------------------+\n",
            "|  fecha reporte web|ID de caso|Fecha de notificación|Código DIVIPOLA departamento|Nombre departamento|Código DIVIPOLA municipio|Nombre municipio|Edad|Unidad de medida de edad|Sexo|Tipo de contagio|Ubicación del caso|   Estado|Código ISO del país|Nombre del país|Recuperado|Fecha de inicio de síntomas|    Fecha de muerte|Fecha de diagnóstico|Fecha de recuperación|Tipo de recuperación|Pertenencia étnica|Nombre del grupo étnico|\n",
            "+-------------------+----------+---------------------+----------------------------+-------------------+-------------------------+----------------+----+------------------------+----+----------------+------------------+---------+-------------------+---------------+----------+---------------------------+-------------------+--------------------+---------------------+--------------------+------------------+-----------------------+\n",
            "|2020-12-24 00:00:00|   1556979|  2020-12-22 00:00:00|                          76|              VALLE|                    76001|            CALI|  67|                       1|   F|     Comunitaria|              Casa|     Leve|               NULL|           NULL|Recuperado|        2020-12-21 00:00:00|               NULL| 2020-12-23 00:00:00|  2021-01-04 00:00:00|              Tiempo|                 6|                   NULL|\n",
            "|2020-12-24 00:00:00|   1556980|  2020-12-19 00:00:00|                          76|              VALLE|                    76001|            CALI|  66|                       1|   F|     Comunitaria|              Casa|     Leve|               NULL|           NULL|Recuperado|        2020-12-07 00:00:00|               NULL| 2020-12-23 00:00:00|  2020-12-25 00:00:00|              Tiempo|                 6|                   NULL|\n",
            "|2020-12-24 00:00:00|   1556981|  2020-12-19 00:00:00|                          76|              VALLE|                    76001|            CALI|  68|                       1|   F|     Comunitaria|              Casa|     Leve|               NULL|           NULL|Recuperado|        2020-12-18 00:00:00|               NULL| 2020-12-22 00:00:00|  2021-01-01 00:00:00|              Tiempo|                 6|                   NULL|\n",
            "|2020-12-24 00:00:00|   1556982|  2020-12-22 00:00:00|                          76|              VALLE|                    76001|            CALI|  74|                       1|   F|     Comunitaria|         Fallecido|Fallecido|               NULL|           NULL| Fallecido|        2020-12-17 00:00:00|2020-12-30 00:00:00| 2020-12-23 00:00:00|                 NULL|                NULL|                 6|                   NULL|\n",
            "|2020-12-24 00:00:00|   1556983|  2020-12-22 00:00:00|                          76|              VALLE|                    76001|            CALI|  65|                       1|   F|     Comunitaria|              Casa|     Leve|               NULL|           NULL|Recuperado|        2020-12-21 00:00:00|               NULL| 2020-12-23 00:00:00|  2021-01-04 00:00:00|              Tiempo|                 6|                   NULL|\n",
            "|2020-12-24 00:00:00|   1556984|  2020-12-15 00:00:00|                          76|              VALLE|                    76001|            CALI|  66|                       1|   F|     Comunitaria|              Casa|     Leve|               NULL|           NULL|Recuperado|        2020-12-09 00:00:00|               NULL| 2020-12-23 00:00:00|  2020-12-25 00:00:00|              Tiempo|                 6|                   NULL|\n",
            "|2020-12-24 00:00:00|   1556985|  2020-12-21 00:00:00|                          76|              VALLE|                    76001|            CALI|  74|                       1|   F|     Comunitaria|              Casa|     Leve|               NULL|           NULL|Recuperado|        2020-12-14 00:00:00|               NULL| 2020-12-22 00:00:00|  2020-12-28 00:00:00|              Tiempo|                 6|                   NULL|\n",
            "|2020-12-24 00:00:00|   1556986|  2020-12-18 00:00:00|                          76|              VALLE|                    76001|            CALI|  66|                       1|   F|     Comunitaria|         Fallecido|Fallecido|               NULL|           NULL| Fallecido|        2020-12-11 00:00:00|2020-12-26 00:00:00| 2020-12-22 00:00:00|                 NULL|                NULL|                 6|                   NULL|\n",
            "|2020-12-24 00:00:00|   1556987|  2020-12-18 00:00:00|                          76|              VALLE|                    76001|            CALI|  64|                       1|   F|     Comunitaria|              Casa|     Leve|               NULL|           NULL|Recuperado|        2020-12-15 00:00:00|               NULL| 2020-12-23 00:00:00|  2020-12-30 00:00:00|              Tiempo|                 6|                   NULL|\n",
            "|2020-12-24 00:00:00|   1556988|  2020-12-17 00:00:00|                          76|              VALLE|                    76001|            CALI|  65|                       1|   F|     Comunitaria|              Casa|     Leve|               NULL|           NULL|Recuperado|        2020-12-08 00:00:00|               NULL| 2020-12-22 00:00:00|  2020-12-25 00:00:00|              Tiempo|                 6|                   NULL|\n",
            "|2020-12-24 00:00:00|   1556989|  2020-12-16 00:00:00|                          76|              VALLE|                    76001|            CALI|  62|                       1|   F|     Comunitaria|              Casa|     Leve|               NULL|           NULL|Recuperado|        2020-12-08 00:00:00|               NULL| 2020-12-23 00:00:00|  2021-04-23 00:00:00|              Tiempo|                 6|                   NULL|\n",
            "|2020-12-24 00:00:00|   1556990|  2020-12-08 00:00:00|                          76|              VALLE|                    76001|            CALI|  36|                       1|   F|     Comunitaria|              Casa|     Leve|               NULL|           NULL|Recuperado|        2020-12-01 00:00:00|               NULL| 2020-12-12 00:00:00|  2020-12-25 00:00:00|              Tiempo|                 6|                   NULL|\n",
            "|2020-12-24 00:00:00|   1556991|  2020-12-22 00:00:00|                          76|              VALLE|                    76001|            CALI|  36|                       1|   F|     Comunitaria|              Casa|     Leve|               NULL|           NULL|Recuperado|        2020-12-19 00:00:00|               NULL| 2020-12-21 00:00:00|  2021-01-02 00:00:00|                 PCR|                 6|                   NULL|\n",
            "|2020-12-24 00:00:00|   1556992|  2020-12-19 00:00:00|                          76|              VALLE|                    76001|            CALI|  35|                       1|   F|     Comunitaria|              Casa|     Leve|               NULL|           NULL|Recuperado|        2020-12-12 00:00:00|               NULL| 2020-12-23 00:00:00|  2020-12-27 00:00:00|              Tiempo|                 6|                   NULL|\n",
            "|2020-11-08 00:00:00|   1137429|  2020-11-05 00:00:00|                           5|          ANTIOQUIA|                     5266|        ENVIGADO|  37|                       1|   F|     Comunitaria|              Casa|     Leve|               NULL|           NULL|Recuperado|        2020-10-31 00:00:00|               NULL| 2020-11-06 00:00:00|  2021-04-25 00:00:00|                 PCR|                 6|                   NULL|\n",
            "|2020-11-08 00:00:00|   1137430|  2020-10-31 00:00:00|                          68|          SANTANDER|                    68001|     BUCARAMANGA|  77|                       1|   M|     Comunitaria|              Casa|     Leve|               NULL|           NULL|Recuperado|        2020-10-31 00:00:00|               NULL| 2020-11-06 00:00:00|  2020-11-15 00:00:00|              Tiempo|                 6|                   NULL|\n",
            "|2020-11-08 00:00:00|   1137431|  2020-11-04 00:00:00|                          54|    NORTE SANTANDER|                    54001|          CUCUTA|  52|                       1|   M|     Comunitaria|              Casa|     Leve|               NULL|           NULL|Recuperado|        2020-10-31 00:00:00|               NULL| 2020-11-07 00:00:00|  2020-11-15 00:00:00|              Tiempo|                 6|                   NULL|\n",
            "|2020-11-08 00:00:00|   1137432|  2020-11-06 00:00:00|                          17|             CALDAS|                    17001|       MANIZALES|  46|                       1|   F|     Comunitaria|              Casa|     Leve|               NULL|           NULL|Recuperado|        2020-10-31 00:00:00|               NULL| 2020-11-06 00:00:00|  2020-11-15 00:00:00|              Tiempo|                 6|                   NULL|\n",
            "|2020-11-08 00:00:00|   1137433|  2020-11-04 00:00:00|                           5|          ANTIOQUIA|                     5266|        ENVIGADO|  37|                       1|   F|     Comunitaria|              Casa|     Leve|               NULL|           NULL|Recuperado|        2020-10-31 00:00:00|               NULL| 2020-11-04 00:00:00|  2020-11-15 00:00:00|              Tiempo|                 6|                   NULL|\n",
            "|2020-11-08 00:00:00|   1137434|  2020-11-05 00:00:00|                          11|             BOGOTA|                    11001|          BOGOTA|  81|                       1|   F|     Relacionado|         Fallecido|Fallecido|               NULL|           NULL| Fallecido|        2020-10-31 00:00:00|2020-11-11 00:00:00| 2020-11-07 00:00:00|                 NULL|                NULL|                 6|                   NULL|\n",
            "+-------------------+----------+---------------------+----------------------------+-------------------+-------------------------+----------------+----+------------------------+----+----------------+------------------+---------+-------------------+---------------+----------+---------------------------+-------------------+--------------------+---------------------+--------------------+------------------+-----------------------+\n",
            "only showing top 20 rows\n",
            "\n"
          ]
        }
      ],
      "source": [
        "df.show()"
      ]
    },
    {
      "cell_type": "markdown",
      "metadata": {
        "id": "l50gkG3DmgMk"
      },
      "source": [
        "## 2.1 y 2.2 Mostrar las columnas y el tipo de dato de estas"
      ]
    },
    {
      "cell_type": "code",
      "execution_count": null,
      "metadata": {
        "colab": {
          "base_uri": "https://localhost:8080/"
        },
        "id": "svBE0KngklW4",
        "outputId": "4619d267-183f-4b3c-e2a2-6a595b8c44fa"
      },
      "outputs": [
        {
          "name": "stdout",
          "output_type": "stream",
          "text": [
            "root\n",
            " |-- fecha reporte web: timestamp (nullable = true)\n",
            " |-- ID de caso: integer (nullable = true)\n",
            " |-- Fecha de notificación: timestamp (nullable = true)\n",
            " |-- Código DIVIPOLA departamento: integer (nullable = true)\n",
            " |-- Nombre departamento: string (nullable = true)\n",
            " |-- Código DIVIPOLA municipio: integer (nullable = true)\n",
            " |-- Nombre municipio: string (nullable = true)\n",
            " |-- Edad: integer (nullable = true)\n",
            " |-- Unidad de medida de edad: integer (nullable = true)\n",
            " |-- Sexo: string (nullable = true)\n",
            " |-- Tipo de contagio: string (nullable = true)\n",
            " |-- Ubicación del caso: string (nullable = true)\n",
            " |-- Estado: string (nullable = true)\n",
            " |-- Código ISO del país: integer (nullable = true)\n",
            " |-- Nombre del país: string (nullable = true)\n",
            " |-- Recuperado: string (nullable = true)\n",
            " |-- Fecha de inicio de síntomas: timestamp (nullable = true)\n",
            " |-- Fecha de muerte: timestamp (nullable = true)\n",
            " |-- Fecha de diagnóstico: timestamp (nullable = true)\n",
            " |-- Fecha de recuperación: timestamp (nullable = true)\n",
            " |-- Tipo de recuperación: string (nullable = true)\n",
            " |-- Pertenencia étnica: integer (nullable = true)\n",
            " |-- Nombre del grupo étnico: string (nullable = true)\n",
            "\n"
          ]
        }
      ],
      "source": [
        "df.printSchema()"
      ]
    },
    {
      "cell_type": "markdown",
      "metadata": {
        "id": "kYbtlAwRmlGO"
      },
      "source": [
        "## 2.3 Seleccionar algunas columnas"
      ]
    },
    {
      "cell_type": "code",
      "execution_count": null,
      "metadata": {
        "colab": {
          "base_uri": "https://localhost:8080/"
        },
        "id": "MUeRHtXFmsfp",
        "outputId": "9a54e3e3-abfe-4f9d-ee85-2b235b1d34cc"
      },
      "outputs": [
        {
          "name": "stdout",
          "output_type": "stream",
          "text": [
            "+----------+-------------------+----------------+----+----+---------+\n",
            "|ID de caso|Nombre departamento|Nombre municipio|Edad|Sexo|   Estado|\n",
            "+----------+-------------------+----------------+----+----+---------+\n",
            "|   1556979|              VALLE|            CALI|  67|   F|     Leve|\n",
            "|   1556980|              VALLE|            CALI|  66|   F|     Leve|\n",
            "|   1556981|              VALLE|            CALI|  68|   F|     Leve|\n",
            "|   1556982|              VALLE|            CALI|  74|   F|Fallecido|\n",
            "|   1556983|              VALLE|            CALI|  65|   F|     Leve|\n",
            "+----------+-------------------+----------------+----+----+---------+\n",
            "only showing top 5 rows\n",
            "\n"
          ]
        }
      ],
      "source": [
        "selected_columns = df.select(\"ID de caso\", \"Nombre departamento\", \"Nombre municipio\", \"Edad\", \"Sexo\", \"Estado\")\n",
        "selected_columns.show(5)"
      ]
    },
    {
      "cell_type": "markdown",
      "metadata": {
        "id": "VxQqsyBymxB7"
      },
      "source": [
        "## 2.4 Renombrar las columnas"
      ]
    },
    {
      "cell_type": "code",
      "execution_count": null,
      "metadata": {
        "colab": {
          "base_uri": "https://localhost:8080/"
        },
        "id": "PfmY03gGrLDM",
        "outputId": "eed205e2-74e7-43c8-9084-caad82bd5a14"
      },
      "outputs": [
        {
          "name": "stdout",
          "output_type": "stream",
          "text": [
            "root\n",
            " |-- fecha_reporte: timestamp (nullable = true)\n",
            " |-- id: integer (nullable = true)\n",
            " |-- fecha_notificacion: timestamp (nullable = true)\n",
            " |-- divipola_departamento: integer (nullable = true)\n",
            " |-- departamento: string (nullable = true)\n",
            " |-- divipola_municipio: integer (nullable = true)\n",
            " |-- municipio: string (nullable = true)\n",
            " |-- edad: integer (nullable = true)\n",
            " |-- unidad_edad: integer (nullable = true)\n",
            " |-- Sexo: string (nullable = true)\n",
            " |-- tipo_contagio: string (nullable = true)\n",
            " |-- ubicacion: string (nullable = true)\n",
            " |-- estado: string (nullable = true)\n",
            " |-- iso: integer (nullable = true)\n",
            " |-- pais: string (nullable = true)\n",
            " |-- recuperado: string (nullable = true)\n",
            " |-- fecha_sintomas: timestamp (nullable = true)\n",
            " |-- fecha_muerte: timestamp (nullable = true)\n",
            " |-- fecha_diagnostico: timestamp (nullable = true)\n",
            " |-- fecha_recuperacion: timestamp (nullable = true)\n",
            " |-- tipo_recuperacion: string (nullable = true)\n",
            " |-- pertenencia_etnica: integer (nullable = true)\n",
            " |-- grupo_etnico: string (nullable = true)\n",
            "\n"
          ]
        }
      ],
      "source": [
        "df = df.withColumnRenamed(\"fecha reporte web\", \"fecha_reporte\") \\\n",
        "      .withColumnRenamed(\"ID de caso\", \"id\") \\\n",
        "      .withColumnRenamed(\"Fecha de notificación\", \"fecha_notificacion\") \\\n",
        "      .withColumnRenamed(\"Fecha de inicio de síntomas\", \"fecha_sintomas\") \\\n",
        "      .withColumnRenamed(\"Fecha de muerte\", \"fecha_muerte\") \\\n",
        "      .withColumnRenamed(\"Fecha de diagnóstico\", \"fecha_diagnostico\") \\\n",
        "      .withColumnRenamed(\"Fecha de recuperación\", \"fecha_recuperacion\") \\\n",
        "      .withColumnRenamed(\"Recuperado\", \"recuperado\") \\\n",
        "      .withColumnRenamed(\"Estado\", \"estado\") \\\n",
        "      .withColumnRenamed(\"Edad\", \"edad\") \\\n",
        "      .withColumnRenamed(\"Nombre departamento\", \"departamento\") \\\n",
        "      .withColumnRenamed(\"Nombre municipio\", \"municipio\") \\\n",
        "      .withColumnRenamed(\"Unidad de medida de edad\", \"unidad_edad\") \\\n",
        "      .withColumnRenamed(\"Tipo de contagio\", \"tipo_contagio\") \\\n",
        "      .withColumnRenamed(\"Ubicación del caso\", \"ubicacion\") \\\n",
        "      .withColumnRenamed(\"Código DIVIPOLA departamento\", \"divipola_departamento\") \\\n",
        "      .withColumnRenamed(\"Código DIVIPOLA municipio\", \"divipola_municipio\") \\\n",
        "      .withColumnRenamed(\"Código ISO del país\", \"iso\") \\\n",
        "      .withColumnRenamed(\"Nombre del país\", \"pais\") \\\n",
        "      .withColumnRenamed(\"Tipo de recuperación\", \"tipo_recuperacion\") \\\n",
        "      .withColumnRenamed(\"Pertenencia étnica\", \"pertenencia_etnica\") \\\n",
        "      .withColumnRenamed(\"Nombre del grupo étnico\", \"grupo_etnico\")\n",
        "\n",
        "df.printSchema()"
      ]
    },
    {
      "cell_type": "markdown",
      "metadata": {
        "id": "SWcwt41hrTCq"
      },
      "source": [
        "## 2.5 Agregar columnas"
      ]
    },
    {
      "cell_type": "code",
      "execution_count": null,
      "metadata": {
        "colab": {
          "base_uri": "https://localhost:8080/"
        },
        "id": "pVfUoZCPrWcd",
        "outputId": "10efefd5-ae05-48a6-c332-bc10990577ba"
      },
      "outputs": [
        {
          "name": "stdout",
          "output_type": "stream",
          "text": [
            "+-------------------+-------------------+---------------+\n",
            "|     fecha_sintomas| fecha_recuperacion|dias_contagiado|\n",
            "+-------------------+-------------------+---------------+\n",
            "|2020-12-21 00:00:00|2021-01-04 00:00:00|             14|\n",
            "|2020-12-07 00:00:00|2020-12-25 00:00:00|             18|\n",
            "|2020-12-18 00:00:00|2021-01-01 00:00:00|             14|\n",
            "|2020-12-17 00:00:00|               NULL|           NULL|\n",
            "|2020-12-21 00:00:00|2021-01-04 00:00:00|             14|\n",
            "+-------------------+-------------------+---------------+\n",
            "only showing top 5 rows\n",
            "\n"
          ]
        }
      ],
      "source": [
        "from pyspark.sql.functions import col, datediff\n",
        "\n",
        "df = df.withColumn(\"fecha_sintomas\", col(\"fecha_sintomas\").cast(\"timestamp\"))\n",
        "df = df.withColumn(\"fecha_recuperacion\", col(\"fecha_recuperacion\").cast(\"timestamp\"))\n",
        "\n",
        "df = df.withColumn(\"dias_contagiado\",\n",
        "                   datediff(col(\"fecha_recuperacion\"), col(\"fecha_sintomas\")))\n",
        "\n",
        "df.select(\"fecha_sintomas\", \"fecha_recuperacion\", \"dias_contagiado\").show(5)\n"
      ]
    },
    {
      "cell_type": "markdown",
      "metadata": {
        "id": "Kbk4zb4msiGw"
      },
      "source": [
        "## 2.6 Borrar columnas"
      ]
    },
    {
      "cell_type": "code",
      "execution_count": null,
      "metadata": {
        "colab": {
          "base_uri": "https://localhost:8080/"
        },
        "id": "A1-LPG-MsntR",
        "outputId": "445b0ab2-b90d-423e-a329-1f9262c31a81"
      },
      "outputs": [
        {
          "name": "stdout",
          "output_type": "stream",
          "text": [
            "+-------------------+-------+-------------------+---------------------+------------+------------------+---------+----+-----------+----+-------------+---------+---------+----+----------+-------------------+-------------------+-------------------+-------------------+-----------------+------------------+------------+---------------+\n",
            "|      fecha_reporte|     id| fecha_notificacion|divipola_departamento|departamento|divipola_municipio|municipio|edad|unidad_edad|Sexo|tipo_contagio|ubicacion|   estado|pais|recuperado|     fecha_sintomas|       fecha_muerte|  fecha_diagnostico| fecha_recuperacion|tipo_recuperacion|pertenencia_etnica|grupo_etnico|dias_contagiado|\n",
            "+-------------------+-------+-------------------+---------------------+------------+------------------+---------+----+-----------+----+-------------+---------+---------+----+----------+-------------------+-------------------+-------------------+-------------------+-----------------+------------------+------------+---------------+\n",
            "|2020-12-24 00:00:00|1556979|2020-12-22 00:00:00|                   76|       VALLE|             76001|     CALI|  67|          1|   F|  Comunitaria|     Casa|     Leve|NULL|Recuperado|2020-12-21 00:00:00|               NULL|2020-12-23 00:00:00|2021-01-04 00:00:00|           Tiempo|                 6|        NULL|             14|\n",
            "|2020-12-24 00:00:00|1556980|2020-12-19 00:00:00|                   76|       VALLE|             76001|     CALI|  66|          1|   F|  Comunitaria|     Casa|     Leve|NULL|Recuperado|2020-12-07 00:00:00|               NULL|2020-12-23 00:00:00|2020-12-25 00:00:00|           Tiempo|                 6|        NULL|             18|\n",
            "|2020-12-24 00:00:00|1556981|2020-12-19 00:00:00|                   76|       VALLE|             76001|     CALI|  68|          1|   F|  Comunitaria|     Casa|     Leve|NULL|Recuperado|2020-12-18 00:00:00|               NULL|2020-12-22 00:00:00|2021-01-01 00:00:00|           Tiempo|                 6|        NULL|             14|\n",
            "|2020-12-24 00:00:00|1556982|2020-12-22 00:00:00|                   76|       VALLE|             76001|     CALI|  74|          1|   F|  Comunitaria|Fallecido|Fallecido|NULL| Fallecido|2020-12-17 00:00:00|2020-12-30 00:00:00|2020-12-23 00:00:00|               NULL|             NULL|                 6|        NULL|           NULL|\n",
            "|2020-12-24 00:00:00|1556983|2020-12-22 00:00:00|                   76|       VALLE|             76001|     CALI|  65|          1|   F|  Comunitaria|     Casa|     Leve|NULL|Recuperado|2020-12-21 00:00:00|               NULL|2020-12-23 00:00:00|2021-01-04 00:00:00|           Tiempo|                 6|        NULL|             14|\n",
            "+-------------------+-------+-------------------+---------------------+------------+------------------+---------+----+-----------+----+-------------+---------+---------+----+----------+-------------------+-------------------+-------------------+-------------------+-----------------+------------------+------------+---------------+\n",
            "only showing top 5 rows\n",
            "\n"
          ]
        }
      ],
      "source": [
        "df = df.drop(\"iso\")\n",
        "df.show(5)"
      ]
    },
    {
      "cell_type": "markdown",
      "metadata": {
        "id": "ePwq-N3ls2hf"
      },
      "source": [
        "## 2.7 Filtrar datos"
      ]
    },
    {
      "cell_type": "code",
      "execution_count": null,
      "metadata": {
        "colab": {
          "base_uri": "https://localhost:8080/"
        },
        "id": "TiWg827Ws8_F",
        "outputId": "8ad1fba8-c419-4ed5-e294-9cd2df582381"
      },
      "outputs": [
        {
          "name": "stdout",
          "output_type": "stream",
          "text": [
            "+-------------------+-------+-------------------+---------------------+------------+------------------+---------+----+-----------+----+-------------+---------+---------+----+----------+-------------------+-------------------+-------------------+------------------+-----------------+------------------+------------+---------------+\n",
            "|      fecha_reporte|     id| fecha_notificacion|divipola_departamento|departamento|divipola_municipio|municipio|edad|unidad_edad|Sexo|tipo_contagio|ubicacion|   estado|pais|recuperado|     fecha_sintomas|       fecha_muerte|  fecha_diagnostico|fecha_recuperacion|tipo_recuperacion|pertenencia_etnica|grupo_etnico|dias_contagiado|\n",
            "+-------------------+-------+-------------------+---------------------+------------+------------------+---------+----+-----------+----+-------------+---------+---------+----+----------+-------------------+-------------------+-------------------+------------------+-----------------+------------------+------------+---------------+\n",
            "|2020-12-24 00:00:00|1556982|2020-12-22 00:00:00|                   76|       VALLE|             76001|     CALI|  74|          1|   F|  Comunitaria|Fallecido|Fallecido|NULL| Fallecido|2020-12-17 00:00:00|2020-12-30 00:00:00|2020-12-23 00:00:00|              NULL|             NULL|                 6|        NULL|           NULL|\n",
            "|2020-12-24 00:00:00|1556986|2020-12-18 00:00:00|                   76|       VALLE|             76001|     CALI|  66|          1|   F|  Comunitaria|Fallecido|Fallecido|NULL| Fallecido|2020-12-11 00:00:00|2020-12-26 00:00:00|2020-12-22 00:00:00|              NULL|             NULL|                 6|        NULL|           NULL|\n",
            "|2020-11-08 00:00:00|1137434|2020-11-05 00:00:00|                   11|      BOGOTA|             11001|   BOGOTA|  81|          1|   F|  Relacionado|Fallecido|Fallecido|NULL| Fallecido|2020-10-31 00:00:00|2020-11-11 00:00:00|2020-11-07 00:00:00|              NULL|             NULL|                 6|        NULL|           NULL|\n",
            "|2020-11-08 00:00:00|1137440|2020-11-03 00:00:00|                   63|     QUINDIO|             63001|  ARMENIA|  85|          1|   F|  Comunitaria|Fallecido|Fallecido|NULL| Fallecido|2020-10-31 00:00:00|2020-11-12 00:00:00|2020-10-31 00:00:00|              NULL|             NULL|                 6|        NULL|           NULL|\n",
            "|2020-11-08 00:00:00|1137443|2020-11-04 00:00:00|                   11|      BOGOTA|             11001|   BOGOTA|  78|          1|   M|  Comunitaria|Fallecido|Fallecido|NULL| Fallecido|2020-10-31 00:00:00|2020-11-16 00:00:00|2020-11-07 00:00:00|              NULL|             NULL|                 6|        NULL|           NULL|\n",
            "+-------------------+-------+-------------------+---------------------+------------+------------------+---------+----+-----------+----+-------------+---------+---------+----+----------+-------------------+-------------------+-------------------+------------------+-----------------+------------------+------------+---------------+\n",
            "only showing top 5 rows\n",
            "\n"
          ]
        }
      ],
      "source": [
        "filtered_df = df.filter(df[\"estado\"] == \"Fallecido\")\n",
        "filtered_df.show(5)"
      ]
    },
    {
      "cell_type": "markdown",
      "metadata": {
        "id": "Ntqjh0Vstfrs"
      },
      "source": [
        "## 2.8 Función UDF"
      ]
    },
    {
      "cell_type": "code",
      "execution_count": null,
      "metadata": {
        "colab": {
          "base_uri": "https://localhost:8080/"
        },
        "id": "2Akt854ktjKz",
        "outputId": "7c0510d9-c683-4ad8-9615-066eca4f0070"
      },
      "outputs": [
        {
          "name": "stdout",
          "output_type": "stream",
          "text": [
            "+-------------------+-------+-------------------+---------------------+------------+------------------+---------+----+-----------+----+-------------+---------+---------+----+----------+-------------------+-------------------+-------------------+-------------------+-----------------+------------------+------------+---------------+----------+\n",
            "|      fecha_reporte|     id| fecha_notificacion|divipola_departamento|departamento|divipola_municipio|municipio|edad|unidad_edad|Sexo|tipo_contagio|ubicacion|   estado|pais|recuperado|     fecha_sintomas|       fecha_muerte|  fecha_diagnostico| fecha_recuperacion|tipo_recuperacion|pertenencia_etnica|grupo_etnico|dias_contagiado|grupo_edad|\n",
            "+-------------------+-------+-------------------+---------------------+------------+------------------+---------+----+-----------+----+-------------+---------+---------+----+----------+-------------------+-------------------+-------------------+-------------------+-----------------+------------------+------------+---------------+----------+\n",
            "|2020-12-24 00:00:00|1556979|2020-12-22 00:00:00|                   76|       VALLE|             76001|     CALI|  67|          1|   F|  Comunitaria|     Casa|     Leve|NULL|Recuperado|2020-12-21 00:00:00|               NULL|2020-12-23 00:00:00|2021-01-04 00:00:00|           Tiempo|                 6|        NULL|             14|     Mayor|\n",
            "|2020-12-24 00:00:00|1556980|2020-12-19 00:00:00|                   76|       VALLE|             76001|     CALI|  66|          1|   F|  Comunitaria|     Casa|     Leve|NULL|Recuperado|2020-12-07 00:00:00|               NULL|2020-12-23 00:00:00|2020-12-25 00:00:00|           Tiempo|                 6|        NULL|             18|     Mayor|\n",
            "|2020-12-24 00:00:00|1556981|2020-12-19 00:00:00|                   76|       VALLE|             76001|     CALI|  68|          1|   F|  Comunitaria|     Casa|     Leve|NULL|Recuperado|2020-12-18 00:00:00|               NULL|2020-12-22 00:00:00|2021-01-01 00:00:00|           Tiempo|                 6|        NULL|             14|     Mayor|\n",
            "|2020-12-24 00:00:00|1556982|2020-12-22 00:00:00|                   76|       VALLE|             76001|     CALI|  74|          1|   F|  Comunitaria|Fallecido|Fallecido|NULL| Fallecido|2020-12-17 00:00:00|2020-12-30 00:00:00|2020-12-23 00:00:00|               NULL|             NULL|                 6|        NULL|           NULL|     Mayor|\n",
            "|2020-12-24 00:00:00|1556983|2020-12-22 00:00:00|                   76|       VALLE|             76001|     CALI|  65|          1|   F|  Comunitaria|     Casa|     Leve|NULL|Recuperado|2020-12-21 00:00:00|               NULL|2020-12-23 00:00:00|2021-01-04 00:00:00|           Tiempo|                 6|        NULL|             14|     Mayor|\n",
            "+-------------------+-------+-------------------+---------------------+------------+------------------+---------+----+-----------+----+-------------+---------+---------+----+----------+-------------------+-------------------+-------------------+-------------------+-----------------+------------------+------------+---------------+----------+\n",
            "only showing top 5 rows\n",
            "\n"
          ]
        }
      ],
      "source": [
        "from pyspark.sql.functions import udf\n",
        "from pyspark.sql.types import StringType\n",
        "\n",
        "def edad_grupo(edad):\n",
        "    if edad < 18:\n",
        "        return \"Menor\"\n",
        "    elif 18 <= edad < 60:\n",
        "        return \"Adulto\"\n",
        "    else:\n",
        "        return \"Mayor\"\n",
        "\n",
        "edad_grupo_udf = udf(edad_grupo, StringType())\n",
        "\n",
        "df = df.withColumn(\"grupo_edad\", edad_grupo_udf(df[\"edad\"]))\n",
        "df.show(5)"
      ]
    },
    {
      "cell_type": "markdown",
      "metadata": {
        "id": "Dw3cADwIt-NX"
      },
      "source": [
        "# 3. Preguntas de negocio"
      ]
    },
    {
      "cell_type": "code",
      "execution_count": null,
      "metadata": {
        "id": "Iuij_tMbwnT3"
      },
      "outputs": [],
      "source": [
        "df.createOrReplaceTempView(\"covid_data\")"
      ]
    },
    {
      "cell_type": "markdown",
      "metadata": {
        "id": "vlg7xOuyuBgL"
      },
      "source": [
        "## 3.1 Los 10 departamentos con más casos de COVID en Colombia"
      ]
    },
    {
      "cell_type": "code",
      "execution_count": null,
      "metadata": {
        "colab": {
          "base_uri": "https://localhost:8080/"
        },
        "id": "jjxupgYTuIXa",
        "outputId": "cf163438-c298-40a0-a1fa-2ab3e66d4e8c"
      },
      "outputs": [
        {
          "name": "stdout",
          "output_type": "stream",
          "text": [
            "+------------+-------+\n",
            "|departamento|  count|\n",
            "+------------+-------+\n",
            "|      BOGOTA|1888137|\n",
            "|   ANTIOQUIA| 955271|\n",
            "|       VALLE| 572724|\n",
            "|CUNDINAMARCA| 331331|\n",
            "|   SANTANDER| 297370|\n",
            "|BARRANQUILLA| 277989|\n",
            "|   CARTAGENA| 163526|\n",
            "|   ATLANTICO| 141072|\n",
            "|      BOYACA| 131133|\n",
            "|      TOLIMA| 127764|\n",
            "+------------+-------+\n",
            "\n"
          ]
        }
      ],
      "source": [
        "from pyspark.sql.functions import desc\n",
        "\n",
        "departamentos_con_mas_casos = df.groupBy(\"departamento\").count().orderBy(desc(\"count\")).limit(10)\n",
        "departamentos_con_mas_casos.show()"
      ]
    },
    {
      "cell_type": "code",
      "execution_count": null,
      "metadata": {
        "colab": {
          "base_uri": "https://localhost:8080/"
        },
        "id": "Z9dBodCguvzH",
        "outputId": "9c1170ef-32f3-4df6-93f9-2822b8f62da5"
      },
      "outputs": [
        {
          "name": "stdout",
          "output_type": "stream",
          "text": [
            "+------------+-------------+\n",
            "|departamento|casos_totales|\n",
            "+------------+-------------+\n",
            "|      BOGOTA|      1888137|\n",
            "|   ANTIOQUIA|       955271|\n",
            "|       VALLE|       572724|\n",
            "|CUNDINAMARCA|       331331|\n",
            "|   SANTANDER|       297370|\n",
            "|BARRANQUILLA|       277989|\n",
            "|   CARTAGENA|       163526|\n",
            "|   ATLANTICO|       141072|\n",
            "|      BOYACA|       131133|\n",
            "|      TOLIMA|       127764|\n",
            "+------------+-------------+\n",
            "\n"
          ]
        }
      ],
      "source": [
        "spark.sql(\"\"\"\n",
        "          SELECT `departamento` AS departamento, COUNT(*) AS casos_totales\n",
        "          FROM covid_data\n",
        "          GROUP BY `departamento`\n",
        "          ORDER BY casos_totales DESC\n",
        "          LIMIT 10\n",
        "          \"\"\").show()\n"
      ]
    },
    {
      "cell_type": "markdown",
      "metadata": {
        "id": "j-Q-Iy-uxT-a"
      },
      "source": [
        "## 3.2 Las 10 ciudades con mas casos de COVID en Colombia"
      ]
    },
    {
      "cell_type": "code",
      "execution_count": null,
      "metadata": {
        "colab": {
          "base_uri": "https://localhost:8080/"
        },
        "id": "ubnI02EOxbZI",
        "outputId": "4b8a9569-22f8-414d-d840-a648926b65ba"
      },
      "outputs": [
        {
          "name": "stdout",
          "output_type": "stream",
          "text": [
            "+------------+-------+\n",
            "|   municipio|  count|\n",
            "+------------+-------+\n",
            "|      BOGOTA|1888137|\n",
            "|    MEDELLIN| 550790|\n",
            "|        CALI| 406751|\n",
            "|BARRANQUILLA| 277989|\n",
            "|   CARTAGENA| 163526|\n",
            "| BUCARAMANGA| 142842|\n",
            "|      IBAGUE|  91598|\n",
            "| SANTA MARTA|  84863|\n",
            "|   MANIZALES|  84478|\n",
            "|      CUCUTA|  77359|\n",
            "+------------+-------+\n",
            "\n"
          ]
        }
      ],
      "source": [
        "municipios_con_mas_casos = df.groupBy(\"municipio\").count().orderBy(desc(\"count\")).limit(10)\n",
        "municipios_con_mas_casos.show()"
      ]
    },
    {
      "cell_type": "code",
      "execution_count": null,
      "metadata": {
        "colab": {
          "base_uri": "https://localhost:8080/"
        },
        "id": "kkrP0T_HyDJL",
        "outputId": "8ec65b09-08af-4fdf-8a7d-582dc96b8c1d"
      },
      "outputs": [
        {
          "name": "stdout",
          "output_type": "stream",
          "text": [
            "+------------+-------------+\n",
            "|   municipio|casos_totales|\n",
            "+------------+-------------+\n",
            "|      BOGOTA|      1888137|\n",
            "|    MEDELLIN|       550790|\n",
            "|        CALI|       406751|\n",
            "|BARRANQUILLA|       277989|\n",
            "|   CARTAGENA|       163526|\n",
            "| BUCARAMANGA|       142842|\n",
            "|      IBAGUE|        91598|\n",
            "| SANTA MARTA|        84863|\n",
            "|   MANIZALES|        84478|\n",
            "|      CUCUTA|        77359|\n",
            "+------------+-------------+\n",
            "\n"
          ]
        }
      ],
      "source": [
        "spark.sql(\"\"\"\n",
        "          SELECT `municipio` AS municipio, COUNT(*) AS casos_totales\n",
        "          FROM covid_data\n",
        "          GROUP BY `municipio`\n",
        "          ORDER BY casos_totales DESC\n",
        "          LIMIT 10\n",
        "          \"\"\").show()\n"
      ]
    },
    {
      "cell_type": "markdown",
      "metadata": {
        "id": "vBq67DnxziU2"
      },
      "source": [
        "## 3.3 Los 10 días con más casos de COVID en Colombia"
      ]
    },
    {
      "cell_type": "code",
      "execution_count": null,
      "metadata": {
        "colab": {
          "base_uri": "https://localhost:8080/"
        },
        "id": "GgFNGOd3z6-z",
        "outputId": "5a5e3717-0d5f-412c-87df-c73c137b0501"
      },
      "outputs": [
        {
          "name": "stdout",
          "output_type": "stream",
          "text": [
            "+-------------------+-----+\n",
            "|      fecha_reporte|count|\n",
            "+-------------------+-----+\n",
            "|2022-01-15 00:00:00|35576|\n",
            "|2022-01-14 00:00:00|34924|\n",
            "|2021-06-26 00:00:00|33593|\n",
            "|2021-06-24 00:00:00|32997|\n",
            "|2021-06-25 00:00:00|32732|\n",
            "|2021-06-27 00:00:00|32377|\n",
            "|2022-01-16 00:00:00|32318|\n",
            "|2022-01-08 00:00:00|31170|\n",
            "|2022-01-21 00:00:00|31039|\n",
            "|2022-01-09 00:00:00|30630|\n",
            "+-------------------+-----+\n",
            "\n"
          ]
        }
      ],
      "source": [
        "dias_con_mas_casos = df.groupBy(\"fecha_reporte\").count().orderBy(desc(\"count\")).limit(10)\n",
        "dias_con_mas_casos.show()"
      ]
    },
    {
      "cell_type": "code",
      "execution_count": null,
      "metadata": {
        "colab": {
          "base_uri": "https://localhost:8080/"
        },
        "id": "Z1xcDQwZ0GS0",
        "outputId": "44538ef9-2390-4f25-e4d7-df6ee0ced9bd"
      },
      "outputs": [
        {
          "name": "stdout",
          "output_type": "stream",
          "text": [
            "+-------------------+-------------+\n",
            "|      fecha_reporte|casos_totales|\n",
            "+-------------------+-------------+\n",
            "|2022-01-15 00:00:00|        35576|\n",
            "|2022-01-14 00:00:00|        34924|\n",
            "|2021-06-26 00:00:00|        33593|\n",
            "|2021-06-24 00:00:00|        32997|\n",
            "|2021-06-25 00:00:00|        32732|\n",
            "|2021-06-27 00:00:00|        32377|\n",
            "|2022-01-16 00:00:00|        32318|\n",
            "|2022-01-08 00:00:00|        31170|\n",
            "|2022-01-21 00:00:00|        31039|\n",
            "|2022-01-09 00:00:00|        30630|\n",
            "+-------------------+-------------+\n",
            "\n"
          ]
        }
      ],
      "source": [
        "spark.sql(\"\"\"\n",
        "          SELECT `fecha_reporte` AS fecha_reporte, COUNT(*) AS casos_totales\n",
        "          FROM covid_data\n",
        "          GROUP BY `fecha_reporte`\n",
        "          ORDER BY casos_totales DESC\n",
        "          LIMIT 10\n",
        "          \"\"\").show()"
      ]
    },
    {
      "cell_type": "markdown",
      "metadata": {
        "id": "jR0se_EK1B_5"
      },
      "source": [
        "## 3.4 Distribución de casos por edades"
      ]
    },
    {
      "cell_type": "code",
      "execution_count": null,
      "metadata": {
        "colab": {
          "base_uri": "https://localhost:8080/"
        },
        "id": "rStQTZKl1TA7",
        "outputId": "012c4bc6-b89d-485b-ab31-9eaf00802526"
      },
      "outputs": [
        {
          "name": "stdout",
          "output_type": "stream",
          "text": [
            "+----+-----+\n",
            "|edad|count|\n",
            "+----+-----+\n",
            "|   1|33429|\n",
            "|   2|26207|\n",
            "|   3|24223|\n",
            "|   4|23905|\n",
            "|   5|24768|\n",
            "|   6|26380|\n",
            "|   7|26067|\n",
            "|   8|28717|\n",
            "|   9|30256|\n",
            "|  10|31768|\n",
            "|  11|34814|\n",
            "|  12|34208|\n",
            "|  13|36646|\n",
            "|  14|39774|\n",
            "|  15|43189|\n",
            "|  16|46546|\n",
            "|  17|52437|\n",
            "|  18|64310|\n",
            "|  19|80783|\n",
            "|  20|93686|\n",
            "+----+-----+\n",
            "only showing top 20 rows\n",
            "\n"
          ]
        }
      ],
      "source": [
        "casos_por_edad = df.groupBy(\"edad\").count().orderBy(\"edad\")\n",
        "casos_por_edad.show()"
      ]
    },
    {
      "cell_type": "code",
      "execution_count": null,
      "metadata": {
        "colab": {
          "base_uri": "https://localhost:8080/"
        },
        "id": "Mz1M88D21TY3",
        "outputId": "f0d89899-8127-4e93-f757-4617a70fa72f"
      },
      "outputs": [
        {
          "name": "stdout",
          "output_type": "stream",
          "text": [
            "+----+-------------+\n",
            "|edad|casos_totales|\n",
            "+----+-------------+\n",
            "|   1|        33429|\n",
            "|   2|        26207|\n",
            "|   3|        24223|\n",
            "|   4|        23905|\n",
            "|   5|        24768|\n",
            "|   6|        26380|\n",
            "|   7|        26067|\n",
            "|   8|        28717|\n",
            "|   9|        30256|\n",
            "|  10|        31768|\n",
            "|  11|        34814|\n",
            "|  12|        34208|\n",
            "|  13|        36646|\n",
            "|  14|        39774|\n",
            "|  15|        43189|\n",
            "|  16|        46546|\n",
            "|  17|        52437|\n",
            "|  18|        64310|\n",
            "|  19|        80783|\n",
            "|  20|        93686|\n",
            "+----+-------------+\n",
            "only showing top 20 rows\n",
            "\n"
          ]
        }
      ],
      "source": [
        "spark.sql(\"\"\"\n",
        "          SELECT edad, COUNT(*) AS casos_totales\n",
        "          FROM covid_data\n",
        "          GROUP BY edad\n",
        "          ORDER BY edad\n",
        "          \"\"\").show()"
      ]
    },
    {
      "cell_type": "markdown",
      "metadata": {
        "id": "kW6LyDrs10Jl"
      },
      "source": [
        "## 3.5 Porcentaje de casos recuperados por departamento"
      ]
    },
    {
      "cell_type": "code",
      "execution_count": null,
      "metadata": {
        "colab": {
          "base_uri": "https://localhost:8080/"
        },
        "id": "f50o90pw15Na",
        "outputId": "14b729d7-d8ee-495b-dd61-f4ce5b623392"
      },
      "outputs": [
        {
          "name": "stdout",
          "output_type": "stream",
          "text": [
            "+--------------+----------------------+\n",
            "|  departamento|porcentaje_recuperados|\n",
            "+--------------+----------------------+\n",
            "|        Tolima|                 100.0|\n",
            "|  Cundinamarca|                 100.0|\n",
            "|      Putumayo|                 100.0|\n",
            "|        VAUPES|     98.37728194726166|\n",
            "|       GUAINIA|     98.21109123434705|\n",
            "|     CARTAGENA|     98.15625649743772|\n",
            "|    SAN ANDRES|     98.13497404345318|\n",
            "|        BOGOTA|     97.91148629575078|\n",
            "|       VICHADA|     97.85469107551488|\n",
            "|     ANTIOQUIA|     97.57932565732655|\n",
            "|      GUAVIARE|     97.47013352073085|\n",
            "|  BARRANQUILLA|     97.23550212418476|\n",
            "|  CUNDINAMARCA|      97.1019916639252|\n",
            "|STA MARTA D.E.|     97.03757821429834|\n",
            "|        CALDAS|     97.03488323655117|\n",
            "|         CHOCO|     96.90590786481198|\n",
            "|      CASANARE|      96.8939079026373|\n",
            "|     RISARALDA|     96.89209416247108|\n",
            "|        BOYACA|      96.8909427832811|\n",
            "|          META|      96.8889217516683|\n",
            "+--------------+----------------------+\n",
            "only showing top 20 rows\n",
            "\n"
          ]
        }
      ],
      "source": [
        "from pyspark.sql.functions import col\n",
        "\n",
        "recuperados_por_departamento = df.filter(col(\"recuperado\") == \"Recuperado\") \\\n",
        "                                  .groupBy(\"departamento\") \\\n",
        "                                  .count() \\\n",
        "                                  .withColumnRenamed(\"count\", \"recuperados\")\n",
        "\n",
        "total_por_departamento = df.groupBy(\"departamento\").count().withColumnRenamed(\"count\", \"total\")\n",
        "\n",
        "porcentaje_recuperados = recuperados_por_departamento.join(total_por_departamento, \"departamento\") \\\n",
        "                                                     .withColumn(\"porcentaje_recuperados\",\n",
        "                                                                 (col(\"recuperados\") / col(\"total\")) * 100) \\\n",
        "                                                     .select(\"departamento\", \"porcentaje_recuperados\") \\\n",
        "                                                     .orderBy(desc(\"porcentaje_recuperados\"))\n",
        "porcentaje_recuperados.show()"
      ]
    },
    {
      "cell_type": "code",
      "execution_count": null,
      "metadata": {
        "colab": {
          "base_uri": "https://localhost:8080/"
        },
        "id": "fRpM7fSH2Y2J",
        "outputId": "714ee4f5-d611-4058-978f-698961b355c8"
      },
      "outputs": [
        {
          "name": "stdout",
          "output_type": "stream",
          "text": [
            "+--------------+----------------------+\n",
            "|  departamento|porcentaje_recuperados|\n",
            "+--------------+----------------------+\n",
            "|        Tolima|                 100.0|\n",
            "|  Cundinamarca|                 100.0|\n",
            "|      Putumayo|                 100.0|\n",
            "|        VAUPES|     98.37728194726166|\n",
            "|       GUAINIA|     98.21109123434705|\n",
            "|     CARTAGENA|     98.15625649743772|\n",
            "|    SAN ANDRES|     98.13497404345318|\n",
            "|        BOGOTA|     97.91148629575078|\n",
            "|       VICHADA|     97.85469107551488|\n",
            "|     ANTIOQUIA|     97.57932565732655|\n",
            "|      GUAVIARE|     97.47013352073085|\n",
            "|  BARRANQUILLA|     97.23550212418476|\n",
            "|  CUNDINAMARCA|      97.1019916639252|\n",
            "|STA MARTA D.E.|     97.03757821429834|\n",
            "|        CALDAS|     97.03488323655117|\n",
            "|         CHOCO|     96.90590786481198|\n",
            "|      CASANARE|      96.8939079026373|\n",
            "|     RISARALDA|     96.89209416247108|\n",
            "|        BOYACA|      96.8909427832811|\n",
            "|          META|      96.8889217516683|\n",
            "+--------------+----------------------+\n",
            "only showing top 20 rows\n",
            "\n"
          ]
        }
      ],
      "source": [
        "recuperados_df = df.filter(df[\"recuperado\"] == \"Recuperado\")\n",
        "recuperados_df.createOrReplaceTempView(\"recuperados_data\")\n",
        "\n",
        "total_df = df.groupBy(\"departamento\").count().withColumnRenamed(\"count\", \"casos_totales\")\n",
        "total_df.createOrReplaceTempView(\"total_data\")\n",
        "\n",
        "spark.sql(\"\"\"\n",
        "          SELECT\n",
        "              t.`departamento` AS departamento,\n",
        "              (r.recuperados / t.casos_totales) * 100 AS porcentaje_recuperados\n",
        "          FROM\n",
        "              (SELECT `departamento`, COUNT(*) AS Recuperados FROM recuperados_data GROUP BY `departamento`) r\n",
        "          JOIN\n",
        "              total_data t\n",
        "          ON\n",
        "              r.`departamento` = t.`departamento`\n",
        "          ORDER BY porcentaje_recuperados DESC\n",
        "          \"\"\").show()"
      ]
    },
    {
      "cell_type": "markdown",
      "metadata": {
        "id": "LgD7vko33dDs"
      },
      "source": [
        "# 4. Guardar los datos en el bucket de S3 y Google Drive"
      ]
    },
    {
      "cell_type": "code",
      "execution_count": null,
      "metadata": {
        "id": "yvMs7Srb3h9o"
      },
      "outputs": [],
      "source": [
        "departamentos_con_mas_casos.write.csv(\"s3a://msosavp3/departamentos_mas_casos.csv\")\n",
        "departamentos_con_mas_casos.write.csv(\n",
        "    \"/content/drive/MyDrive/Tópicos Especiales en Telemática/Proyecto 3/departamentos_mas_casos.csv\")"
      ]
    },
    {
      "cell_type": "code",
      "execution_count": null,
      "metadata": {
        "colab": {
          "base_uri": "https://localhost:8080/"
        },
        "id": "D7tlFeUb4vmS",
        "outputId": "9b9a2f3d-8828-477c-83c4-45948bd7ecad"
      },
      "outputs": [
        {
          "name": "stdout",
          "output_type": "stream",
          "text": [
            "+------------+-------+\n",
            "|      BOGOTA|1888137|\n",
            "+------------+-------+\n",
            "|   ANTIOQUIA| 955271|\n",
            "|       VALLE| 572724|\n",
            "|CUNDINAMARCA| 331331|\n",
            "|   SANTANDER| 297370|\n",
            "|BARRANQUILLA| 277989|\n",
            "|   CARTAGENA| 163526|\n",
            "|   ATLANTICO| 141072|\n",
            "|      BOYACA| 131133|\n",
            "|      TOLIMA| 127764|\n",
            "+------------+-------+\n",
            "\n"
          ]
        }
      ],
      "source": [
        "departamentos_con_mas_casos_df = spark.read.csv(\"s3a://msosavp3/departamentos_mas_casos.csv\", header=True, inferSchema=True)\n",
        "departamentos_con_mas_casos_df.show()"
      ]
    },
    {
      "cell_type": "code",
      "execution_count": null,
      "metadata": {
        "id": "O5phGSSjD8mr"
      },
      "outputs": [],
      "source": [
        "municipios_con_mas_casos.write.csv(\"s3a://msosavp3/municipios_mas_casos.csv\")\n",
        "municipios_con_mas_casos.write.csv(\n",
        "    \"/content/drive/MyDrive/Tópicos Especiales en Telemática/Proyecto 3/municipios_mas_casos.csv\")"
      ]
    },
    {
      "cell_type": "code",
      "execution_count": null,
      "metadata": {
        "colab": {
          "base_uri": "https://localhost:8080/"
        },
        "id": "hUTscRBOEbvx",
        "outputId": "8e3d39a5-40b7-4d43-a824-641227960a05"
      },
      "outputs": [
        {
          "name": "stdout",
          "output_type": "stream",
          "text": [
            "+------------+-------+\n",
            "|      BOGOTA|1888137|\n",
            "+------------+-------+\n",
            "|    MEDELLIN| 550790|\n",
            "|        CALI| 406751|\n",
            "|BARRANQUILLA| 277989|\n",
            "|   CARTAGENA| 163526|\n",
            "| BUCARAMANGA| 142842|\n",
            "|      IBAGUE|  91598|\n",
            "| SANTA MARTA|  84863|\n",
            "|   MANIZALES|  84478|\n",
            "|      CUCUTA|  77359|\n",
            "+------------+-------+\n",
            "\n"
          ]
        }
      ],
      "source": [
        "municipios_con_mas_casos_df = spark.read.csv(\"s3a://msosavp3/municipios_mas_casos.csv\", header=True, inferSchema=True)\n",
        "municipios_con_mas_casos_df.show()"
      ]
    },
    {
      "cell_type": "code",
      "execution_count": null,
      "metadata": {
        "id": "BbYco3F5Edlm"
      },
      "outputs": [],
      "source": [
        "dias_con_mas_casos.write.csv(\"s3a://msosavp3/dias_con_mas_casos.csv\")\n",
        "dias_con_mas_casos.write.csv(\"/content/drive/MyDrive/Tópicos Especiales en Telemática/Proyecto 3/dias_con_mas_casos.csv\")"
      ]
    },
    {
      "cell_type": "code",
      "execution_count": null,
      "metadata": {
        "colab": {
          "base_uri": "https://localhost:8080/"
        },
        "id": "BmtWYwLtEfys",
        "outputId": "ce7b35b0-726f-466b-ba20-06e6d751b148"
      },
      "outputs": [
        {
          "name": "stdout",
          "output_type": "stream",
          "text": [
            "+------------------------+-----+\n",
            "|2022-01-15T00:00:00.000Z|35576|\n",
            "+------------------------+-----+\n",
            "|     2022-01-14 00:00:00|34924|\n",
            "|     2021-06-26 00:00:00|33593|\n",
            "|     2021-06-24 00:00:00|32997|\n",
            "|     2021-06-25 00:00:00|32732|\n",
            "|     2021-06-27 00:00:00|32377|\n",
            "|     2022-01-16 00:00:00|32318|\n",
            "|     2022-01-08 00:00:00|31170|\n",
            "|     2022-01-21 00:00:00|31039|\n",
            "|     2022-01-09 00:00:00|30630|\n",
            "+------------------------+-----+\n",
            "\n"
          ]
        }
      ],
      "source": [
        "dias_con_mas_casos_df = spark.read.csv(\"s3a://msosavp3/dias_con_mas_casos.csv\", header=True, inferSchema=True)\n",
        "dias_con_mas_casos_df.show()"
      ]
    },
    {
      "cell_type": "code",
      "execution_count": null,
      "metadata": {
        "id": "_TIb23q3Ehuc"
      },
      "outputs": [],
      "source": [
        "casos_por_edad.write.csv(\"s3a://msosavp3/casos_por_edad.csv\")\n",
        "casos_por_edad.write.csv(\"/content/drive/MyDrive/Tópicos Especiales en Telemática/Proyecto 3/casos_por_edad.csv\")"
      ]
    },
    {
      "cell_type": "code",
      "execution_count": null,
      "metadata": {
        "colab": {
          "base_uri": "https://localhost:8080/"
        },
        "id": "G6K5PPRvEo5o",
        "outputId": "eaceee7e-1486-4e31-8f74-adf79731d712"
      },
      "outputs": [
        {
          "name": "stdout",
          "output_type": "stream",
          "text": [
            "+---+------+\n",
            "|  1| 33429|\n",
            "+---+------+\n",
            "|  2| 26207|\n",
            "|  3| 24223|\n",
            "|  4| 23905|\n",
            "|  5| 24768|\n",
            "|  6| 26380|\n",
            "|  7| 26067|\n",
            "|  8| 28717|\n",
            "|  9| 30256|\n",
            "| 10| 31768|\n",
            "| 11| 34814|\n",
            "| 12| 34208|\n",
            "| 13| 36646|\n",
            "| 14| 39774|\n",
            "| 15| 43189|\n",
            "| 16| 46546|\n",
            "| 17| 52437|\n",
            "| 18| 64310|\n",
            "| 19| 80783|\n",
            "| 20| 93686|\n",
            "| 21|106309|\n",
            "+---+------+\n",
            "only showing top 20 rows\n",
            "\n"
          ]
        }
      ],
      "source": [
        "casos_por_edad_df = spark.read.csv(\"s3a://msosavp3/casos_por_edad.csv\", header=True, inferSchema=True)\n",
        "casos_por_edad_df.show()"
      ]
    },
    {
      "cell_type": "code",
      "execution_count": null,
      "metadata": {
        "id": "c2CHJcnjErZx"
      },
      "outputs": [],
      "source": [
        "porcentaje_recuperados.write.csv(\"s3a://msosavp3/porcentaje_recuperados.csv\")\n",
        "porcentaje_recuperados.write.csv(\"/content/drive/MyDrive/Tópicos Especiales en Telemática/Proyecto 3/porcentaje_recuperados.csv\")"
      ]
    },
    {
      "cell_type": "code",
      "execution_count": null,
      "metadata": {
        "colab": {
          "base_uri": "https://localhost:8080/"
        },
        "id": "RJTDFd-cEsvk",
        "outputId": "ad7f3a36-1df7-4b05-9fe2-a4c40e678490"
      },
      "outputs": [
        {
          "name": "stdout",
          "output_type": "stream",
          "text": [
            "+--------------+-----------------+\n",
            "|        Tolima|            100.0|\n",
            "+--------------+-----------------+\n",
            "|  Cundinamarca|            100.0|\n",
            "|      Putumayo|            100.0|\n",
            "|        VAUPES|98.37728194726166|\n",
            "|       GUAINIA|98.21109123434705|\n",
            "|     CARTAGENA|98.15625649743772|\n",
            "|    SAN ANDRES|98.13497404345318|\n",
            "|        BOGOTA|97.91148629575078|\n",
            "|       VICHADA|97.85469107551488|\n",
            "|     ANTIOQUIA|97.57932565732655|\n",
            "|      GUAVIARE|97.47013352073085|\n",
            "|  BARRANQUILLA|97.23550212418476|\n",
            "|  CUNDINAMARCA| 97.1019916639252|\n",
            "|STA MARTA D.E.|97.03757821429834|\n",
            "|        CALDAS|97.03488323655117|\n",
            "|         CHOCO|96.90590786481198|\n",
            "|      CASANARE| 96.8939079026373|\n",
            "|     RISARALDA|96.89209416247108|\n",
            "|        BOYACA| 96.8909427832811|\n",
            "|          META| 96.8889217516683|\n",
            "|       BOLIVAR|96.88367711225703|\n",
            "+--------------+-----------------+\n",
            "only showing top 20 rows\n",
            "\n"
          ]
        }
      ],
      "source": [
        "porcentaje_recuperados_df = spark.read.csv(\"s3a://msosavp3/porcentaje_recuperados.csv\", header=True, inferSchema=True)\n",
        "porcentaje_recuperados_df.show()"
      ]
    }
  ],
  "metadata": {
    "colab": {
      "provenance": []
    },
    "kernelspec": {
      "display_name": "Python 3",
      "name": "python3"
    },
    "language_info": {
      "name": "python"
    }
  },
  "nbformat": 4,
  "nbformat_minor": 0
}
